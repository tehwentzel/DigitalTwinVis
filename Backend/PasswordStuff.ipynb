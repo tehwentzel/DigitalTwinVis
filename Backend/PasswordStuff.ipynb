{
 "cells": [
  {
   "cell_type": "code",
   "execution_count": 38,
   "id": "b2d84419",
   "metadata": {},
   "outputs": [],
   "source": [
    "from typing import Tuple\n",
    "import os\n",
    "import hashlib\n",
    "import hmac\n",
    "import pickle\n",
    "import random\n",
    "\n",
    "def hash_new_password(password: str) -> Tuple[bytes, bytes]:\n",
    "    \"\"\"\n",
    "    Hash the provided password with a randomly-generated salt and return the\n",
    "    salt and hash to store in the database.\n",
    "    \"\"\"\n",
    "    salt = os.urandom(16)\n",
    "    pw_hash = hashlib.pbkdf2_hmac('sha256', password.encode(), salt, 100000)\n",
    "    return salt, pw_hash\n",
    "\n",
    "def is_correct_password(salt: bytes, pw_hash: bytes, password: str) -> bool:\n",
    "    \"\"\"\n",
    "    Given a previously-stored salt and hash, and a password provided by a user\n",
    "    trying to log in, check whether the password is correct.\n",
    "    \"\"\"\n",
    "    return hmac.compare_digest(\n",
    "        pw_hash,\n",
    "        hashlib.pbkdf2_hmac('sha256', password.encode(), salt, 100000)\n",
    "    )\n",
    "\n",
    "def save_account(username, password,current_passwords  = None,current_password_file = '../data/homework.pk',overwrite=False):\n",
    "    flag = True\n",
    "    if current_passwords is None:\n",
    "        try:\n",
    "            with open(current_password_file,'rb') as f:\n",
    "                current_passwords = pickle.load(f)\n",
    "        except Exception as e:\n",
    "            print('error loading passwords',current_password_file)\n",
    "            print(e)\n",
    "            print('making new file')\n",
    "            current_passwords= {}\n",
    "    if current_passwords.get(username) is not None and (not overwrite):\n",
    "        print('username',username,'already exists')\n",
    "        return False\n",
    "    (nsalt, npass) = hash_new_password(password)\n",
    "    entry = {'salt': nsalt, 'pwd': npass}\n",
    "    current_passwords[username] = entry\n",
    "    try:\n",
    "        with open(current_password_file,'wb') as f:\n",
    "            pickle.dump(current_passwords,f)\n",
    "        return True\n",
    "    except Exception as e:\n",
    "        print('error loading passwords',current_password_file)\n",
    "        print(e)\n",
    "        return False\n",
    "    return False\n",
    "\n",
    "def check_password(username, password, current_passwords = None, pfile='../data/homework.pk'):\n",
    "    if current_passwords is None:\n",
    "        try:\n",
    "            with open(pfile,'rb') as f:\n",
    "                current_passwords = pickle.load(f)\n",
    "        except Exception as e:\n",
    "            print('error loading passwords in check_passwords',pfile)\n",
    "            print(e)\n",
    "            return False\n",
    "    account = current_passwords.get(username,None)\n",
    "    if account is None:\n",
    "        return False\n",
    "    salt  = account['salt']\n",
    "    pwd_hash = account['pwd']\n",
    "    return is_correct_password(salt,pwd_hash,password)\n",
    "\n"
   ]
  },
  {
   "cell_type": "code",
   "execution_count": 39,
   "id": "10526495",
   "metadata": {},
   "outputs": [],
   "source": [
    "def load_secret_key():\n",
    "    try:\n",
    "        with open('../data/secret_key.txt','r') as f:\n",
    "            return f.read()\n",
    "    except Exception as e:\n",
    "        print(\"error loading secret key, using random value\")\n",
    "        return str(random.random())\n"
   ]
  },
  {
   "cell_type": "code",
   "execution_count": null,
   "id": "f82a1db0",
   "metadata": {},
   "outputs": [],
   "source": [
    "\n"
   ]
  },
  {
   "cell_type": "code",
   "execution_count": null,
   "id": "1cd48213",
   "metadata": {},
   "outputs": [],
   "source": []
  },
  {
   "cell_type": "code",
   "execution_count": null,
   "id": "b716b2c5",
   "metadata": {},
   "outputs": [],
   "source": []
  }
 ],
 "metadata": {
  "kernelspec": {
   "display_name": "Python 3 (ipykernel)",
   "language": "python",
   "name": "python3"
  },
  "language_info": {
   "codemirror_mode": {
    "name": "ipython",
    "version": 3
   },
   "file_extension": ".py",
   "mimetype": "text/x-python",
   "name": "python",
   "nbconvert_exporter": "python",
   "pygments_lexer": "ipython3",
   "version": "3.8.10"
  }
 },
 "nbformat": 4,
 "nbformat_minor": 5
}
